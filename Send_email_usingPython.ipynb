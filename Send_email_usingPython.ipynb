{
 "cells": [
  {
   "cell_type": "code",
   "execution_count": 1,
   "id": "010f29ce",
   "metadata": {},
   "outputs": [],
   "source": [
    "import pandas as pd\n",
    "import numpy as np"
   ]
  },
  {
   "cell_type": "code",
   "execution_count": 2,
   "id": "62415a65",
   "metadata": {},
   "outputs": [],
   "source": [
    "d={\"Provider\":[\"Gmail\",\"Yahoo Mail\",\"Outlook.com/Hotmail.com\", \"AT&T\",\"Verizon\",\"comcast\"], \"SMTP Server domain Name\":[\"smtp.gmail.com\",\"smtp.mail.yahoo.mail\",\"smtp-mail.outlook.com\",\"smtp.mail.att.net (User port 465)\",\"smtp.verizon.net(Use port 465)\",\"smtp.comcast.net\"]}"
   ]
  },
  {
   "cell_type": "code",
   "execution_count": 3,
   "id": "8723e5d6",
   "metadata": {},
   "outputs": [
    {
     "data": {
      "text/html": [
       "<div>\n",
       "<style scoped>\n",
       "    .dataframe tbody tr th:only-of-type {\n",
       "        vertical-align: middle;\n",
       "    }\n",
       "\n",
       "    .dataframe tbody tr th {\n",
       "        vertical-align: top;\n",
       "    }\n",
       "\n",
       "    .dataframe thead th {\n",
       "        text-align: right;\n",
       "    }\n",
       "</style>\n",
       "<table border=\"1\" class=\"dataframe\">\n",
       "  <thead>\n",
       "    <tr style=\"text-align: right;\">\n",
       "      <th></th>\n",
       "      <th>Provider</th>\n",
       "      <th>SMTP Server domain Name</th>\n",
       "    </tr>\n",
       "  </thead>\n",
       "  <tbody>\n",
       "    <tr>\n",
       "      <th>0</th>\n",
       "      <td>Gmail</td>\n",
       "      <td>smtp.gmail.com</td>\n",
       "    </tr>\n",
       "    <tr>\n",
       "      <th>1</th>\n",
       "      <td>Yahoo Mail</td>\n",
       "      <td>smtp.mail.yahoo.mail</td>\n",
       "    </tr>\n",
       "    <tr>\n",
       "      <th>2</th>\n",
       "      <td>Outlook.com/Hotmail.com</td>\n",
       "      <td>smtp-mail.outlook.com</td>\n",
       "    </tr>\n",
       "    <tr>\n",
       "      <th>3</th>\n",
       "      <td>AT&amp;T</td>\n",
       "      <td>smtp.mail.att.net (User port 465)</td>\n",
       "    </tr>\n",
       "    <tr>\n",
       "      <th>4</th>\n",
       "      <td>Verizon</td>\n",
       "      <td>smtp.verizon.net(Use port 465)</td>\n",
       "    </tr>\n",
       "    <tr>\n",
       "      <th>5</th>\n",
       "      <td>comcast</td>\n",
       "      <td>smtp.comcast.net</td>\n",
       "    </tr>\n",
       "  </tbody>\n",
       "</table>\n",
       "</div>"
      ],
      "text/plain": [
       "                  Provider            SMTP Server domain Name\n",
       "0                    Gmail                     smtp.gmail.com\n",
       "1               Yahoo Mail               smtp.mail.yahoo.mail\n",
       "2  Outlook.com/Hotmail.com              smtp-mail.outlook.com\n",
       "3                     AT&T  smtp.mail.att.net (User port 465)\n",
       "4                  Verizon     smtp.verizon.net(Use port 465)\n",
       "5                  comcast                   smtp.comcast.net"
      ]
     },
     "execution_count": 3,
     "metadata": {},
     "output_type": "execute_result"
    }
   ],
   "source": [
    "df=pd.DataFrame(data=d)\n",
    "df"
   ]
  },
  {
   "cell_type": "code",
   "execution_count": 4,
   "id": "f1059d90",
   "metadata": {},
   "outputs": [],
   "source": [
    "import smtplib\n",
    "smtp_object=smtplib.SMTP(\"smtp.gmail.com\")"
   ]
  },
  {
   "cell_type": "code",
   "execution_count": 5,
   "id": "1321ae04",
   "metadata": {},
   "outputs": [
    {
     "data": {
      "text/plain": [
       "(250,\n",
       " b'smtp.gmail.com at your service, [106.210.153.159]\\nSIZE 35882577\\n8BITMIME\\nSTARTTLS\\nENHANCEDSTATUSCODES\\nPIPELINING\\nCHUNKING\\nSMTPUTF8')"
      ]
     },
     "execution_count": 5,
     "metadata": {},
     "output_type": "execute_result"
    }
   ],
   "source": [
    "smtp_object.ehlo()"
   ]
  },
  {
   "cell_type": "code",
   "execution_count": 6,
   "id": "5322220e",
   "metadata": {},
   "outputs": [
    {
     "data": {
      "text/plain": [
       "(220, b'2.0.0 Ready to start TLS')"
      ]
     },
     "execution_count": 6,
     "metadata": {},
     "output_type": "execute_result"
    }
   ],
   "source": [
    "smtp_object.starttls()"
   ]
  },
  {
   "cell_type": "code",
   "execution_count": 7,
   "id": "21f2659b",
   "metadata": {},
   "outputs": [
    {
     "name": "stdout",
     "output_type": "stream",
     "text": [
      "enter the password:ghjgh\n"
     ]
    }
   ],
   "source": [
    "password=input(\"enter the password:\")"
   ]
  },
  {
   "cell_type": "code",
   "execution_count": 8,
   "id": "10e1f8b1",
   "metadata": {},
   "outputs": [],
   "source": [
    "import getpass"
   ]
  },
  {
   "cell_type": "code",
   "execution_count": 9,
   "id": "1b9e9bfe",
   "metadata": {},
   "outputs": [
    {
     "name": "stdout",
     "output_type": "stream",
     "text": [
      "Password Please= ········\n"
     ]
    }
   ],
   "source": [
    "password=getpass.getpass(\"Password Please= \")"
   ]
  },
  {
   "cell_type": "code",
   "execution_count": null,
   "id": "abbd2e12",
   "metadata": {},
   "outputs": [],
   "source": [
    "email=getpass.getpass(\"email: \")\n",
    "password=getpass.getpass('Password: ')\n",
    "smtp_object.login(email,password)"
   ]
  },
  {
   "cell_type": "code",
   "execution_count": null,
   "id": "f1014aa5",
   "metadata": {},
   "outputs": [],
   "source": [
    "from_address=email\n",
    "to_address=email\n",
    "subject=input(\"Enter the subject line: \")\n",
    "message=input(\"Enter the message: \")\n",
    "msg=\"subject: \" +subject+\"\\n\"+message"
   ]
  },
  {
   "cell_type": "code",
   "execution_count": null,
   "id": "6bae8b61",
   "metadata": {},
   "outputs": [],
   "source": [
    "smtp_object.sendmail(from_address, to_address,msg)"
   ]
  },
  {
   "cell_type": "code",
   "execution_count": null,
   "id": "e4677ab1",
   "metadata": {},
   "outputs": [],
   "source": [
    "smtp_object.quit()"
   ]
  }
 ],
 "metadata": {
  "kernelspec": {
   "display_name": "Python 3",
   "language": "python",
   "name": "python3"
  },
  "language_info": {
   "codemirror_mode": {
    "name": "ipython",
    "version": 3
   },
   "file_extension": ".py",
   "mimetype": "text/x-python",
   "name": "python",
   "nbconvert_exporter": "python",
   "pygments_lexer": "ipython3",
   "version": "3.8.8"
  }
 },
 "nbformat": 4,
 "nbformat_minor": 5
}
